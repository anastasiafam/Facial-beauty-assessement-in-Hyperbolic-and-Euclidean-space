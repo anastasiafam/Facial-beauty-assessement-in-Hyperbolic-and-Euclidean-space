{
 "cells": [
  {
   "cell_type": "code",
   "execution_count": 10,
   "id": "86994788-bbc7-4035-9297-670ab12a75b8",
   "metadata": {},
   "outputs": [
    {
     "name": "stdout",
     "output_type": "stream",
     "text": [
      "[NbConvertApp] Converting notebook base.ipynb to html\n",
      "[NbConvertApp] Writing 269449 bytes to base.html\n"
     ]
    }
   ],
   "source": [
    "!jupyter nbconvert --to html --no-input base.ipynb"
   ]
  },
  {
   "cell_type": "code",
   "execution_count": 2,
   "id": "14fc732a-c904-4a42-99b2-45804f0dea43",
   "metadata": {},
   "outputs": [
    {
     "name": "stdout",
     "output_type": "stream",
     "text": [
      "[NbConvertApp] Converting notebook index.ipynb to html\n",
      "[NbConvertApp] Writing 270717 bytes to index.html\n"
     ]
    }
   ],
   "source": [
    "!jupyter nbconvert --to html --no-input index.ipynb"
   ]
  }
 ],
 "metadata": {
  "kernelspec": {
   "display_name": "Python 3 (ipykernel)",
   "language": "python",
   "name": "python3"
  },
  "language_info": {
   "codemirror_mode": {
    "name": "ipython",
    "version": 3
   },
   "file_extension": ".py",
   "mimetype": "text/x-python",
   "name": "python",
   "nbconvert_exporter": "python",
   "pygments_lexer": "ipython3",
   "version": "3.10.12"
  }
 },
 "nbformat": 4,
 "nbformat_minor": 5
}
