{
 "cells": [
  {
   "cell_type": "code",
   "execution_count": 8,
   "id": "b8ef7888-b7e5-4093-a697-c6a668a72c9c",
   "metadata": {},
   "outputs": [
    {
     "data": {
      "text/html": [
       "<html lang=\"en\">\n",
       "\n",
       "<head>\n",
       "    <meta charset=\"UTF-8\">\n",
       "    <meta name=\"viewport\" content=\"width=device-width, initial-scale=1.0\">\n",
       "    <meta http-equiv=\"X-UA-Compatible\" content=\"ie=edge\">\n",
       "    <title>Deep Learning</title>\n",
       "    <link href=\"https://cdn.bootcss.com/bootstrap/4.0.0/css/bootstrap.min.css\" rel=\"stylesheet\">\n",
       "    <script src=\"https://cdn.bootcss.com/popper.js/1.12.9/umd/popper.min.js\"></script>\n",
       "    <script src=\"https://cdn.bootcss.com/jquery/3.3.1/jquery.min.js\"></script>\n",
       "    <script src=\"https://cdn.bootcss.com/bootstrap/4.0.0/js/bootstrap.min.js\"></script>\n",
       "    <link href=\"{{ url_for('static', filename='css/main.css') }}\" rel=\"stylesheet\">\n",
       "</head>\n",
       "\n",
       "<body>\n",
       "    <nav class=\"navbar navbar-dark bg-dark\">\n",
       "        <div class=\"container\">\n",
       "            <a class=\"navbar-brand\" href=\"#\">AI Image Classifier</a>\n",
       "\n",
       "        </div>\n",
       "    </nav>\n",
       "    <div class=\"container\">\n",
       "        <div id=\"content\" style=\"margin-top:2em\">{% block content %}{% endblock %}</div>\n",
       "    </div>\n",
       "</body>\n",
       "\n",
       "<footer>\n",
       "\n",
       "    <script src=\"{{ url_for('static', filename='js/main.js') }}\" type=\"text/javascript\"></script>\n",
       "</footer>\n",
       "\n",
       "<div class=\"footer\">\n",
       "  <p><Footer>ⒸDeveloped by Kushal Bhavsar</Footer></p>\n",
       "</div>\n",
       "\n",
       "</html>\n"
      ],
      "text/plain": [
       "<IPython.core.display.HTML object>"
      ]
     },
     "metadata": {},
     "output_type": "display_data"
    }
   ],
   "source": [
    "%%HTML\n",
    "<html lang=\"en\">\n",
    "\n",
    "<head>\n",
    "    <meta charset=\"UTF-8\">\n",
    "    <meta name=\"viewport\" content=\"width=device-width, initial-scale=1.0\">\n",
    "    <meta http-equiv=\"X-UA-Compatible\" content=\"ie=edge\">\n",
    "    <title>Deep Learning</title>\n",
    "    <link href=\"https://cdn.bootcss.com/bootstrap/4.0.0/css/bootstrap.min.css\" rel=\"stylesheet\">\n",
    "    <script src=\"https://cdn.bootcss.com/popper.js/1.12.9/umd/popper.min.js\"></script>\n",
    "    <script src=\"https://cdn.bootcss.com/jquery/3.3.1/jquery.min.js\"></script>\n",
    "    <script src=\"https://cdn.bootcss.com/bootstrap/4.0.0/js/bootstrap.min.js\"></script>\n",
    "    <link href=\"{{ url_for('static', filename='css/main.css') }}\" rel=\"stylesheet\">\n",
    "</head>\n",
    "\n",
    "<body>\n",
    "    <nav class=\"navbar navbar-dark bg-dark\">\n",
    "        <div class=\"container\">\n",
    "            <a class=\"navbar-brand\" href=\"#\">AI Image Classifier</a>\n",
    "\n",
    "        </div>\n",
    "    </nav>\n",
    "    <div class=\"container\">\n",
    "        <div id=\"content\" style=\"margin-top:2em\">{% block content %}{% endblock %}</div>\n",
    "    </div>\n",
    "</body>\n",
    "\n",
    "<footer>\n",
    "\n",
    "    <script src=\"{{ url_for('static', filename='js/main.js') }}\" type=\"text/javascript\"></script>\n",
    "</footer>\n",
    "\n",
    "<div class=\"footer\">\n",
    "  <p><Footer>ⒸDeveloped by Kushal Bhavsar</Footer></p>\n",
    "</div>\n",
    "\n",
    "</html>"
   ]
  },
  {
   "cell_type": "code",
   "execution_count": null,
   "id": "55dc3084-aed5-4092-9a75-7610c591525a",
   "metadata": {},
   "outputs": [],
   "source": []
  }
 ],
 "metadata": {
  "kernelspec": {
   "display_name": "Python 3 (ipykernel)",
   "language": "python",
   "name": "python3"
  },
  "language_info": {
   "codemirror_mode": {
    "name": "ipython",
    "version": 3
   },
   "file_extension": ".py",
   "mimetype": "text/x-python",
   "name": "python",
   "nbconvert_exporter": "python",
   "pygments_lexer": "ipython3",
   "version": "3.10.12"
  }
 },
 "nbformat": 4,
 "nbformat_minor": 5
}
